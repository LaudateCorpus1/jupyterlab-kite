{
 "metadata": {
  "language_info": {
   "codemirror_mode": {
    "name": "ipython",
    "version": 3
   },
   "file_extension": ".py",
   "mimetype": "text/x-python",
   "name": "python",
   "nbconvert_exporter": "python",
   "pygments_lexer": "ipython3",
   "version": "3.8.6"
  },
  "orig_nbformat": 2,
  "kernelspec": {
   "name": "python3",
   "display_name": "Python 3",
   "language": "python"
  }
 },
 "nbformat": 4,
 "nbformat_minor": 2,
 "cells": [
  {
   "cell_type": "code",
   "execution_count": 1,
   "metadata": {},
   "outputs": [
    {
     "output_type": "error",
     "ename": "SyntaxError",
     "evalue": "invalid syntax (<ipython-input-1-2406b0de553a>, line 1)",
     "traceback": [
      "\u001b[0;36m  File \u001b[0;32m\"<ipython-input-1-2406b0de553a>\"\u001b[0;36m, line \u001b[0;32m1\u001b[0m\n\u001b[0;31m    1.  Assume you have $100,000 to invest in the stock market. Invest as close to $100,000 as possible. However, since you cannot buy part of a share, you will not be able to spend exactly $100,000. Your goal is growth: you want to pick stocks that you expect will increase in price as much as possible.\u001b[0m\n\u001b[0m        ^\u001b[0m\n\u001b[0;31mSyntaxError\u001b[0m\u001b[0;31m:\u001b[0m invalid syntax\n"
     ]
    }
   ],
   "source": [
    "1.  Assume you have $100,000 to invest in the stock market. Invest as close to $100,000 as possible. However, since you cannot buy part of a share, you will not be able to spend exactly $100,000. Your goal is growth: you want to pick stocks that you expect will increase in price as much as possible."
   ]
  },
  {
   "cell_type": "code",
   "execution_count": 7,
   "metadata": {},
   "outputs": [
    {
     "output_type": "error",
     "ename": "SyntaxError",
     "evalue": "invalid syntax (<ipython-input-7-40d4b08ed01d>, line 1)",
     "traceback": [
      "\u001b[0;36m  File \u001b[0;32m\"<ipython-input-7-40d4b08ed01d>\"\u001b[0;36m, line \u001b[0;32m1\u001b[0m\n\u001b[0;31m    Due to the second part of the question, I am forced to focus on making sure the \"stock will increase in price as much as possible\". This will do one of two things, make me buy as much $Tesla stock as possible. Which would equal out to about ~148 and a half total pieces of common stock. Sure, you could expect stable income from Mcdonalds, or other stock with reliable value like Walt Disney Studios, but it does not have the long term record that Tesla has thus far and yet to come... Especially since its is down (-1.65%) perfect time to buy. [May 4, 4:00PM EDT]\u001b[0m\n\u001b[0m        ^\u001b[0m\n\u001b[0;31mSyntaxError\u001b[0m\u001b[0;31m:\u001b[0m invalid syntax\n"
     ]
    }
   ],
   "source": [
    "Due to the second part of the question, I am forced to focus on making sure the \"stock will increase in price as much as possible\". This will do one of two things, make me buy as much $Tesla stock as possible. Which would equal out to about ~148 and a half total pieces of common stock. Sure, you could expect stable income from Mcdonalds, or other stock with reliable value like Walt Disney Studios, but it does not have the long term record that Tesla has thus far and yet to come... Especially since its is down (-1.65%) perfect time to buy. [May 4, 4:00PM EDT]\n",
    "\n",
    "    {\n",
    "        insert graphing-chart: [\n",
    "            Date: '', '', '', '', '', '', ''; \n",
    "            Closing Price/share: '', '', '', '', '', '', '';\n",
    "            Investment Value: \"\";\n",
    "-\n",
    "            Total Shares: \"\";\n",
    "            Price in $/Shares(Day_10): \"closingPrice.7\";\n",
    "-            \n",
    "            Total $.Day_10 === < |*| > ;\n",
    "                #####CHANGE IN FUNCTION#####\n",
    "                ~Return_On_Investment [ROI] = rinvest()\n",
    "                    rinvest.100000 == {Profit(+/-)Loss} / {Initial.Investment}\n",
    "        ]\n",
    "    Collect.rinvest { [*%] } \n",
    "    Collect.daysTotal { [10] }\n",
    "    Collect.annualizedRInvest { [*%] }\n",
    "\n",
    "    print Data!@'.,\n",
    "\n",
    "    }"
   ]
  },
  {
   "cell_type": "code",
   "execution_count": null,
   "metadata": {},
   "outputs": [],
   "source": [
    "2.  Pick one or more stocks listed on the New York Stock Exchange or NASDAQ. You cannot choose either Apple or Google, but any other stock choice is acceptable."
   ]
  },
  {
   "cell_type": "code",
   "execution_count": null,
   "metadata": {},
   "outputs": [],
   "source": [
    "3.  Explain why you chose the stock (or stocks).I am looking for a rational financial reason such as company profitability, analysts’ recommendations, growth projects, etc. I expect to see that you have researched the company.You need to show financial data on this company to support your buying decision."
   ]
  },
  {
   "cell_type": "code",
   "execution_count": null,
   "metadata": {},
   "outputs": [],
   "source": [
    "4.  Tell me how much you paid per share and how many shares you bought of each stock.Do not include any broker’s or trading fees."
   ]
  },
  {
   "cell_type": "code",
   "execution_count": null,
   "metadata": {},
   "outputs": [],
   "source": [
    "5.  Keep your money invested for 10 consecutive trading days (the stock exchanges are closed on the weekends.)Develop a graph showing the daily closing price for the 10-day period.The days should be on the horizontal axis and the price on the vertical axis."
   ]
  },
  {
   "cell_type": "code",
   "execution_count": null,
   "metadata": {},
   "outputs": [],
   "source": [
    "6.  Sell your stock on the 10th trading day.Cite the selling price per share and calculate your profit or loss, both in dollar amounts and a percentage return or loss on your investment. (ROI)"
   ]
  },
  {
   "cell_type": "code",
   "execution_count": 8,
   "metadata": {},
   "outputs": [
    {
     "output_type": "error",
     "ename": "SyntaxError",
     "evalue": "invalid syntax (<ipython-input-8-1112603565ed>, line 1)",
     "traceback": [
      "\u001b[0;36m  File \u001b[0;32m\"<ipython-input-8-1112603565ed>\"\u001b[0;36m, line \u001b[0;32m1\u001b[0m\n\u001b[0;31m    12/13 =\u001b[0m\n\u001b[0m            ^\u001b[0m\n\u001b[0;31mSyntaxError\u001b[0m\u001b[0;31m:\u001b[0m invalid syntax\n"
     ]
    }
   ],
   "source": [
    "12/13 = \n",
    "4/5 = "
   ]
  },
  {
   "cell_type": "code",
   "execution_count": null,
   "metadata": {},
   "outputs": [],
   "source": []
  }
 ]
}